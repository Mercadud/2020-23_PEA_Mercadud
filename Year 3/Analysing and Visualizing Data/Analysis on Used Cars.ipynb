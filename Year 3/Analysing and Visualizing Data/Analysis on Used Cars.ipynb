{
 "cells": [
  {
   "attachments": {},
   "cell_type": "markdown",
   "metadata": {},
   "source": [
    "# installing required libraries"
   ]
  },
  {
   "cell_type": "code",
   "execution_count": null,
   "metadata": {},
   "outputs": [],
   "source": [
    "! pip install --user pandas numpy matplotlib bokeh"
   ]
  },
  {
   "attachments": {},
   "cell_type": "markdown",
   "metadata": {},
   "source": [
    "# Adding Required libraries\n"
   ]
  },
  {
   "cell_type": "code",
   "execution_count": null,
   "metadata": {
    "pycharm": {
     "is_executing": true
    }
   },
   "outputs": [],
   "source": [
    "import pandas as pd\n",
    "import numpy as np\n",
    "import matplotlib.pyplot as plt\n",
    "from matplotlib import ticker\n",
    "from bokeh.io import output_file\n",
    "from bokeh.plotting import figure, show\n",
    "from bokeh.models import ColumnDataSource\n",
    "\n",
    "x = np.arange(5)\n",
    "width = 0.40\n",
    "formatter = ticker.ScalarFormatter()\n",
    "formatter.set_scientific(False)\n",
    "\n",
    "df = pd.read_csv(\"used_car_dataset.csv\")\n",
    "df"
   ]
  },
  {
   "attachments": {},
   "cell_type": "markdown",
   "metadata": {},
   "source": [
    "# sanitizing the columns"
   ]
  },
  {
   "cell_type": "code",
   "execution_count": null,
   "metadata": {},
   "outputs": [],
   "source": [
    "# year\n",
    "df[\"Year\"] = df[\"Year\"].apply(lambda x: int(x) if x.isdigit() else np.nan)\n",
    "df.dropna(axis=0, inplace=True)\n",
    "# doing this, because they would all end up as floats, if I don't\n",
    "df[\"Year\"] = df[\"Year\"].apply(lambda x: int(x))\n",
    "\n",
    "# Price\n",
    "df[\"Price\"] = df[\"Price\"].apply(lambda x: int(\n",
    "    x.replace(\",\", '')) if x.replace(\",\", '').isdigit() else np.nan)\n",
    "df.dropna(axis=0, inplace=True)\n",
    "## doing this, because they would all end up as floats, if I don't\n",
    "df[\"Price\"] = df[\"Price\"].apply(lambda x: int(x))\n",
    "## removing outliers\n",
    "df = df[np.abs(df.Price-df.Price.mean())<=(3*df.Price.std())] #keep only the ones that are within +3 to -3 standard deviations in the column 'Data'.\n",
    "\n",
    "# kms driven\n",
    "df[\"Kms driven\"] = df[\"Kms driven\"].apply(lambda x: int(x.replace(\",\", '')) if x.replace(\",\", '').isdigit() else np.nan)\n",
    "df.dropna(axis=0, inplace=True)\n",
    "## doing this, because they would all end up as floats, if I don't\n",
    "df[\"Kms driven\"] = df[\"Kms driven\"].apply(lambda x: int(x))\n",
    "\n",
    "# Fuel Type\n",
    "df[\"Fuel_type\"] = df[\"Fuel_type\"].apply(\n",
    "    lambda x: x if x == \"Diesel\" or x == \"Petrol\" else np.nan)\n",
    "df.dropna(axis=0, inplace=True)\n",
    "\n",
    "df"
   ]
  },
  {
   "attachments": {},
   "cell_type": "markdown",
   "metadata": {},
   "source": [
    "# adding a price/km column"
   ]
  },
  {
   "cell_type": "code",
   "execution_count": null,
   "metadata": {},
   "outputs": [],
   "source": [
    "df['Price_per_km'] = df['Price'] / df['Kms driven']\n",
    "df['Price_per_km'] = df['Price_per_km'].apply(lambda o: round(o, 2))\n",
    "df"
   ]
  },
  {
   "attachments": {},
   "cell_type": "markdown",
   "metadata": {},
   "source": [
    "# Price of used cars over the years\n"
   ]
  },
  {
   "cell_type": "code",
   "execution_count": null,
   "metadata": {},
   "outputs": [],
   "source": [
    "output_file('Price_of_used_car_over_the_years.html',\n",
    "            title=\"Price of used car over the years\")\n",
    "\n",
    "\n",
    "avg_price = df.groupby('Year')['Price'].mean()\n",
    "\n",
    "source = ColumnDataSource(data={\n",
    "    'years': list(avg_price.index),\n",
    "    'avg_price': list(avg_price.values)\n",
    "})\n",
    "\n",
    "fig = figure(\n",
    "    height=400,\n",
    "    width=600,\n",
    "    title='Average Car Price per Year',\n",
    "    y_axis_label='Average Price',\n",
    "    x_axis_label='Year'\n",
    ")\n",
    "\n",
    "fig.vbar(\n",
    "    x='years',\n",
    "    top='avg_price',\n",
    "    source=source,\n",
    "    width=0.5\n",
    ")\n",
    "\n",
    "show(fig)"
   ]
  },
  {
   "attachments": {},
   "cell_type": "markdown",
   "metadata": {},
   "source": [
    "# Price of used cars over the years separated by diesel and gas\n"
   ]
  },
  {
   "cell_type": "code",
   "execution_count": null,
   "metadata": {},
   "outputs": [],
   "source": [
    "df_piv = pd.pivot_table(\n",
    "\tdf,\n",
    "\tvalues=\"Price\",\n",
    "\tindex=\"Year\",\n",
    "\tcolumns=\"Fuel_type\",\n",
    "\taggfunc=np.mean\n",
    ")\n",
    "\n",
    "ax = df_piv.plot(kind=\"bar\")\n",
    "fig = ax.get_figure()\n",
    "fig.set_size_inches(7, 6)\n",
    "# Change the axes labels\n",
    "ax.set_xlabel(\"Years\")\n",
    "ax.set_ylabel(\"Average Price\")\n",
    "ax.yaxis.set_major_formatter(formatter)\n",
    "\n",
    "plt.show()"
   ]
  },
  {
   "attachments": {},
   "cell_type": "markdown",
   "metadata": {},
   "source": [
    "# What is the average price for each manufacturer?"
   ]
  },
  {
   "cell_type": "code",
   "execution_count": null,
   "metadata": {},
   "outputs": [],
   "source": [
    "output_file('Price_of_used_car_seperated_by_manufacturer.html',\n",
    "            title=\"Average price of used car seperated by manufacturer\")\n",
    "\n",
    "\n",
    "avg_price = df.groupby('Company name')['Price'].mean().sort_values()\n",
    "\n",
    "source = ColumnDataSource(data={\n",
    "    'manufacturers': list(avg_price.index),\n",
    "    'avg_price': list(avg_price.values)\n",
    "})\n",
    "\n",
    "fig = figure(\n",
    "    x_range=list(avg_price.index),\n",
    "    height=400,\n",
    "    width=600,\n",
    "    title='Average Car Price per Manufacturer',\n",
    "    y_axis_label='Average Price',\n",
    "    x_axis_label='Manufacturer'\n",
    ")\n",
    "\n",
    "# make the orientation of the x ticks angled to remove the overlap\n",
    "fig.xaxis.major_label_orientation = 1\n",
    "\n",
    "fig.vbar(\n",
    "    x='manufacturers',\n",
    "    top='avg_price',\n",
    "    source=source,\n",
    "    width=0.5\n",
    ")\n",
    "\n",
    "show(fig)"
   ]
  },
  {
   "attachments": {},
   "cell_type": "markdown",
   "metadata": {},
   "source": [
    "# What is the price per kilometers driven?"
   ]
  },
  {
   "cell_type": "code",
   "execution_count": null,
   "metadata": {},
   "outputs": [],
   "source": [
    "fig = plt.figure()\n",
    "ax = fig.add_axes([0.1, 0.1, 1, 1])\n",
    "\n",
    "kms = df[\"Kms driven\"]\n",
    "price = df[\"Price\"]\n",
    "\n",
    "ax.scatter(kms,price)\n",
    "ax.set_title(\"Correlation between kms driven and price\")\n",
    "\n",
    "ax.set_xlabel(\"kms driven\")\n",
    "ax.set_ylabel(\"Price\")\n",
    "ax.yaxis.set_major_formatter(formatter)\n",
    "plt.show()"
   ]
  },
  {
   "attachments": {},
   "cell_type": "markdown",
   "metadata": {},
   "source": [
    "# How many cars did each manufacturer sell per year? "
   ]
  },
  {
   "cell_type": "code",
   "execution_count": null,
   "metadata": {},
   "outputs": [],
   "source": [
    "output_file('amount_of_cars_each_manufacturer_sold.html',\n",
    "            title=\"Amount of cars sold by each manufacturer\")\n",
    "\n",
    "\n",
    "company_sold = df.groupby('Company name')[\"Price\"].count().sort_values()\n",
    "\n",
    "source = ColumnDataSource(data={\n",
    "    'manufacturers': list(company_sold.index),\n",
    "    'avg_price': list(company_sold.values)\n",
    "})\n",
    "\n",
    "fig = figure(\n",
    "    x_range=list(company_sold.index),\n",
    "    height=400,\n",
    "    width=600,\n",
    "    title='Amount of cars sold by manufacturer',\n",
    "    y_axis_label='# of cars sold',\n",
    "    x_axis_label='Manufacturer'\n",
    ")\n",
    "\n",
    "# make the orientation of the x ticks angled to remove the overlap\n",
    "fig.xaxis.major_label_orientation = 1\n",
    "\n",
    "fig.vbar(\n",
    "    x='manufacturers',\n",
    "    top='avg_price',\n",
    "    source=source,\n",
    "    width=0.5\n",
    ")\n",
    "\n",
    "show(fig)"
   ]
  }
 ],
 "metadata": {
  "kernelspec": {
   "display_name": "Python 3",
   "language": "python",
   "name": "python3"
  },
  "language_info": {
   "codemirror_mode": {
    "name": "ipython",
    "version": 3
   },
   "file_extension": ".py",
   "mimetype": "text/x-python",
   "name": "python",
   "nbconvert_exporter": "python",
   "pygments_lexer": "ipython3",
   "version": "3.10.4"
  },
  "vscode": {
   "interpreter": {
    "hash": "e7370f93d1d0cde622a1f8e1c04877d8463912d04d973331ad4851f04de6915a"
   }
  }
 },
 "nbformat": 4,
 "nbformat_minor": 1
}
